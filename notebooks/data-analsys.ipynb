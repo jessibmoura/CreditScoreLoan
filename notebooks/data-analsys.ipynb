{
 "cells": [
  {
   "cell_type": "code",
   "execution_count": 123,
   "id": "a22455ca",
   "metadata": {},
   "outputs": [],
   "source": [
    "import pandas as pd\n",
    "import matplotlib.pyplot as plt\n",
    "import re"
   ]
  },
  {
   "cell_type": "code",
   "execution_count": 15,
   "id": "e6488ad5",
   "metadata": {},
   "outputs": [
    {
     "name": "stderr",
     "output_type": "stream",
     "text": [
      "C:\\Users\\jessi\\AppData\\Local\\Temp\\ipykernel_42620\\3828657111.py:1: DtypeWarning: Columns (26) have mixed types. Specify dtype option on import or set low_memory=False.\n",
      "  df = pd.read_csv(\"../data/train.csv\")\n"
     ]
    }
   ],
   "source": [
    "df = pd.read_csv(\"../data/train.csv\")"
   ]
  },
  {
   "cell_type": "code",
   "execution_count": 16,
   "id": "bc688f23",
   "metadata": {},
   "outputs": [
    {
     "data": {
      "text/html": [
       "<div>\n",
       "<style scoped>\n",
       "    .dataframe tbody tr th:only-of-type {\n",
       "        vertical-align: middle;\n",
       "    }\n",
       "\n",
       "    .dataframe tbody tr th {\n",
       "        vertical-align: top;\n",
       "    }\n",
       "\n",
       "    .dataframe thead th {\n",
       "        text-align: right;\n",
       "    }\n",
       "</style>\n",
       "<table border=\"1\" class=\"dataframe\">\n",
       "  <thead>\n",
       "    <tr style=\"text-align: right;\">\n",
       "      <th></th>\n",
       "      <th>ID</th>\n",
       "      <th>Customer_ID</th>\n",
       "      <th>Month</th>\n",
       "      <th>Name</th>\n",
       "      <th>Age</th>\n",
       "      <th>SSN</th>\n",
       "      <th>Occupation</th>\n",
       "      <th>Annual_Income</th>\n",
       "      <th>Monthly_Inhand_Salary</th>\n",
       "      <th>Num_Bank_Accounts</th>\n",
       "      <th>...</th>\n",
       "      <th>Credit_Mix</th>\n",
       "      <th>Outstanding_Debt</th>\n",
       "      <th>Credit_Utilization_Ratio</th>\n",
       "      <th>Credit_History_Age</th>\n",
       "      <th>Payment_of_Min_Amount</th>\n",
       "      <th>Total_EMI_per_month</th>\n",
       "      <th>Amount_invested_monthly</th>\n",
       "      <th>Payment_Behaviour</th>\n",
       "      <th>Monthly_Balance</th>\n",
       "      <th>Credit_Score</th>\n",
       "    </tr>\n",
       "  </thead>\n",
       "  <tbody>\n",
       "    <tr>\n",
       "      <th>0</th>\n",
       "      <td>0x1602</td>\n",
       "      <td>CUS_0xd40</td>\n",
       "      <td>January</td>\n",
       "      <td>Aaron Maashoh</td>\n",
       "      <td>23</td>\n",
       "      <td>821-00-0265</td>\n",
       "      <td>Scientist</td>\n",
       "      <td>19114.12</td>\n",
       "      <td>1824.843333</td>\n",
       "      <td>3</td>\n",
       "      <td>...</td>\n",
       "      <td>_</td>\n",
       "      <td>809.98</td>\n",
       "      <td>26.822620</td>\n",
       "      <td>22 Years and 1 Months</td>\n",
       "      <td>No</td>\n",
       "      <td>49.574949</td>\n",
       "      <td>80.41529543900253</td>\n",
       "      <td>High_spent_Small_value_payments</td>\n",
       "      <td>312.49408867943663</td>\n",
       "      <td>Good</td>\n",
       "    </tr>\n",
       "    <tr>\n",
       "      <th>1</th>\n",
       "      <td>0x1603</td>\n",
       "      <td>CUS_0xd40</td>\n",
       "      <td>February</td>\n",
       "      <td>Aaron Maashoh</td>\n",
       "      <td>23</td>\n",
       "      <td>821-00-0265</td>\n",
       "      <td>Scientist</td>\n",
       "      <td>19114.12</td>\n",
       "      <td>NaN</td>\n",
       "      <td>3</td>\n",
       "      <td>...</td>\n",
       "      <td>Good</td>\n",
       "      <td>809.98</td>\n",
       "      <td>31.944960</td>\n",
       "      <td>NaN</td>\n",
       "      <td>No</td>\n",
       "      <td>49.574949</td>\n",
       "      <td>118.28022162236736</td>\n",
       "      <td>Low_spent_Large_value_payments</td>\n",
       "      <td>284.62916249607184</td>\n",
       "      <td>Good</td>\n",
       "    </tr>\n",
       "    <tr>\n",
       "      <th>2</th>\n",
       "      <td>0x1604</td>\n",
       "      <td>CUS_0xd40</td>\n",
       "      <td>March</td>\n",
       "      <td>Aaron Maashoh</td>\n",
       "      <td>-500</td>\n",
       "      <td>821-00-0265</td>\n",
       "      <td>Scientist</td>\n",
       "      <td>19114.12</td>\n",
       "      <td>NaN</td>\n",
       "      <td>3</td>\n",
       "      <td>...</td>\n",
       "      <td>Good</td>\n",
       "      <td>809.98</td>\n",
       "      <td>28.609352</td>\n",
       "      <td>22 Years and 3 Months</td>\n",
       "      <td>No</td>\n",
       "      <td>49.574949</td>\n",
       "      <td>81.699521264648</td>\n",
       "      <td>Low_spent_Medium_value_payments</td>\n",
       "      <td>331.2098628537912</td>\n",
       "      <td>Good</td>\n",
       "    </tr>\n",
       "    <tr>\n",
       "      <th>3</th>\n",
       "      <td>0x1605</td>\n",
       "      <td>CUS_0xd40</td>\n",
       "      <td>April</td>\n",
       "      <td>Aaron Maashoh</td>\n",
       "      <td>23</td>\n",
       "      <td>821-00-0265</td>\n",
       "      <td>Scientist</td>\n",
       "      <td>19114.12</td>\n",
       "      <td>NaN</td>\n",
       "      <td>3</td>\n",
       "      <td>...</td>\n",
       "      <td>Good</td>\n",
       "      <td>809.98</td>\n",
       "      <td>31.377862</td>\n",
       "      <td>22 Years and 4 Months</td>\n",
       "      <td>No</td>\n",
       "      <td>49.574949</td>\n",
       "      <td>199.4580743910713</td>\n",
       "      <td>Low_spent_Small_value_payments</td>\n",
       "      <td>223.45130972736786</td>\n",
       "      <td>Good</td>\n",
       "    </tr>\n",
       "    <tr>\n",
       "      <th>4</th>\n",
       "      <td>0x1606</td>\n",
       "      <td>CUS_0xd40</td>\n",
       "      <td>May</td>\n",
       "      <td>Aaron Maashoh</td>\n",
       "      <td>23</td>\n",
       "      <td>821-00-0265</td>\n",
       "      <td>Scientist</td>\n",
       "      <td>19114.12</td>\n",
       "      <td>1824.843333</td>\n",
       "      <td>3</td>\n",
       "      <td>...</td>\n",
       "      <td>Good</td>\n",
       "      <td>809.98</td>\n",
       "      <td>24.797347</td>\n",
       "      <td>22 Years and 5 Months</td>\n",
       "      <td>No</td>\n",
       "      <td>49.574949</td>\n",
       "      <td>41.420153086217326</td>\n",
       "      <td>High_spent_Medium_value_payments</td>\n",
       "      <td>341.48923103222177</td>\n",
       "      <td>Good</td>\n",
       "    </tr>\n",
       "  </tbody>\n",
       "</table>\n",
       "<p>5 rows × 28 columns</p>\n",
       "</div>"
      ],
      "text/plain": [
       "       ID Customer_ID     Month           Name   Age          SSN Occupation  \\\n",
       "0  0x1602   CUS_0xd40   January  Aaron Maashoh    23  821-00-0265  Scientist   \n",
       "1  0x1603   CUS_0xd40  February  Aaron Maashoh    23  821-00-0265  Scientist   \n",
       "2  0x1604   CUS_0xd40     March  Aaron Maashoh  -500  821-00-0265  Scientist   \n",
       "3  0x1605   CUS_0xd40     April  Aaron Maashoh    23  821-00-0265  Scientist   \n",
       "4  0x1606   CUS_0xd40       May  Aaron Maashoh    23  821-00-0265  Scientist   \n",
       "\n",
       "  Annual_Income  Monthly_Inhand_Salary  Num_Bank_Accounts  ...  Credit_Mix  \\\n",
       "0      19114.12            1824.843333                  3  ...           _   \n",
       "1      19114.12                    NaN                  3  ...        Good   \n",
       "2      19114.12                    NaN                  3  ...        Good   \n",
       "3      19114.12                    NaN                  3  ...        Good   \n",
       "4      19114.12            1824.843333                  3  ...        Good   \n",
       "\n",
       "   Outstanding_Debt Credit_Utilization_Ratio     Credit_History_Age  \\\n",
       "0            809.98                26.822620  22 Years and 1 Months   \n",
       "1            809.98                31.944960                    NaN   \n",
       "2            809.98                28.609352  22 Years and 3 Months   \n",
       "3            809.98                31.377862  22 Years and 4 Months   \n",
       "4            809.98                24.797347  22 Years and 5 Months   \n",
       "\n",
       "   Payment_of_Min_Amount Total_EMI_per_month Amount_invested_monthly  \\\n",
       "0                     No           49.574949       80.41529543900253   \n",
       "1                     No           49.574949      118.28022162236736   \n",
       "2                     No           49.574949         81.699521264648   \n",
       "3                     No           49.574949       199.4580743910713   \n",
       "4                     No           49.574949      41.420153086217326   \n",
       "\n",
       "                  Payment_Behaviour     Monthly_Balance Credit_Score  \n",
       "0   High_spent_Small_value_payments  312.49408867943663         Good  \n",
       "1    Low_spent_Large_value_payments  284.62916249607184         Good  \n",
       "2   Low_spent_Medium_value_payments   331.2098628537912         Good  \n",
       "3    Low_spent_Small_value_payments  223.45130972736786         Good  \n",
       "4  High_spent_Medium_value_payments  341.48923103222177         Good  \n",
       "\n",
       "[5 rows x 28 columns]"
      ]
     },
     "execution_count": 16,
     "metadata": {},
     "output_type": "execute_result"
    }
   ],
   "source": [
    "df.head()"
   ]
  },
  {
   "cell_type": "code",
   "execution_count": 17,
   "id": "b0514244",
   "metadata": {},
   "outputs": [
    {
     "name": "stdout",
     "output_type": "stream",
     "text": [
      "<class 'pandas.core.frame.DataFrame'>\n",
      "RangeIndex: 100000 entries, 0 to 99999\n",
      "Data columns (total 28 columns):\n",
      " #   Column                    Non-Null Count   Dtype  \n",
      "---  ------                    --------------   -----  \n",
      " 0   ID                        100000 non-null  object \n",
      " 1   Customer_ID               100000 non-null  object \n",
      " 2   Month                     100000 non-null  object \n",
      " 3   Name                      90015 non-null   object \n",
      " 4   Age                       100000 non-null  object \n",
      " 5   SSN                       100000 non-null  object \n",
      " 6   Occupation                100000 non-null  object \n",
      " 7   Annual_Income             100000 non-null  object \n",
      " 8   Monthly_Inhand_Salary     84998 non-null   float64\n",
      " 9   Num_Bank_Accounts         100000 non-null  int64  \n",
      " 10  Num_Credit_Card           100000 non-null  int64  \n",
      " 11  Interest_Rate             100000 non-null  int64  \n",
      " 12  Num_of_Loan               100000 non-null  object \n",
      " 13  Type_of_Loan              88592 non-null   object \n",
      " 14  Delay_from_due_date       100000 non-null  int64  \n",
      " 15  Num_of_Delayed_Payment    92998 non-null   object \n",
      " 16  Changed_Credit_Limit      100000 non-null  object \n",
      " 17  Num_Credit_Inquiries      98035 non-null   float64\n",
      " 18  Credit_Mix                100000 non-null  object \n",
      " 19  Outstanding_Debt          100000 non-null  object \n",
      " 20  Credit_Utilization_Ratio  100000 non-null  float64\n",
      " 21  Credit_History_Age        90970 non-null   object \n",
      " 22  Payment_of_Min_Amount     100000 non-null  object \n",
      " 23  Total_EMI_per_month       100000 non-null  float64\n",
      " 24  Amount_invested_monthly   95521 non-null   object \n",
      " 25  Payment_Behaviour         100000 non-null  object \n",
      " 26  Monthly_Balance           98800 non-null   object \n",
      " 27  Credit_Score              100000 non-null  object \n",
      "dtypes: float64(4), int64(4), object(20)\n",
      "memory usage: 21.4+ MB\n"
     ]
    }
   ],
   "source": [
    "df.info()"
   ]
  },
  {
   "cell_type": "code",
   "execution_count": 18,
   "id": "e71a5503",
   "metadata": {},
   "outputs": [
    {
     "name": "stdout",
     "output_type": "stream",
     "text": [
      "Number of customers:  12500\n"
     ]
    }
   ],
   "source": [
    "print(\"Number of customers: \", len(df['Customer_ID'].unique()))"
   ]
  },
  {
   "cell_type": "markdown",
   "id": "3c281beb",
   "metadata": {},
   "source": [
    "#### Looking at only one customer"
   ]
  },
  {
   "cell_type": "code",
   "execution_count": 21,
   "id": "cd3245d6",
   "metadata": {},
   "outputs": [
    {
     "data": {
      "text/html": [
       "<div>\n",
       "<style scoped>\n",
       "    .dataframe tbody tr th:only-of-type {\n",
       "        vertical-align: middle;\n",
       "    }\n",
       "\n",
       "    .dataframe tbody tr th {\n",
       "        vertical-align: top;\n",
       "    }\n",
       "\n",
       "    .dataframe thead th {\n",
       "        text-align: right;\n",
       "    }\n",
       "</style>\n",
       "<table border=\"1\" class=\"dataframe\">\n",
       "  <thead>\n",
       "    <tr style=\"text-align: right;\">\n",
       "      <th></th>\n",
       "      <th>ID</th>\n",
       "      <th>Customer_ID</th>\n",
       "      <th>Month</th>\n",
       "      <th>Name</th>\n",
       "      <th>Age</th>\n",
       "      <th>SSN</th>\n",
       "      <th>Occupation</th>\n",
       "      <th>Annual_Income</th>\n",
       "      <th>Monthly_Inhand_Salary</th>\n",
       "      <th>Num_Bank_Accounts</th>\n",
       "      <th>...</th>\n",
       "      <th>Credit_Mix</th>\n",
       "      <th>Outstanding_Debt</th>\n",
       "      <th>Credit_Utilization_Ratio</th>\n",
       "      <th>Credit_History_Age</th>\n",
       "      <th>Payment_of_Min_Amount</th>\n",
       "      <th>Total_EMI_per_month</th>\n",
       "      <th>Amount_invested_monthly</th>\n",
       "      <th>Payment_Behaviour</th>\n",
       "      <th>Monthly_Balance</th>\n",
       "      <th>Credit_Score</th>\n",
       "    </tr>\n",
       "  </thead>\n",
       "  <tbody>\n",
       "    <tr>\n",
       "      <th>0</th>\n",
       "      <td>0x1602</td>\n",
       "      <td>CUS_0xd40</td>\n",
       "      <td>January</td>\n",
       "      <td>Aaron Maashoh</td>\n",
       "      <td>23</td>\n",
       "      <td>821-00-0265</td>\n",
       "      <td>Scientist</td>\n",
       "      <td>19114.12</td>\n",
       "      <td>1824.843333</td>\n",
       "      <td>3</td>\n",
       "      <td>...</td>\n",
       "      <td>_</td>\n",
       "      <td>809.98</td>\n",
       "      <td>26.822620</td>\n",
       "      <td>22 Years and 1 Months</td>\n",
       "      <td>No</td>\n",
       "      <td>49.574949</td>\n",
       "      <td>80.41529543900253</td>\n",
       "      <td>High_spent_Small_value_payments</td>\n",
       "      <td>312.49408867943663</td>\n",
       "      <td>Good</td>\n",
       "    </tr>\n",
       "    <tr>\n",
       "      <th>1</th>\n",
       "      <td>0x1603</td>\n",
       "      <td>CUS_0xd40</td>\n",
       "      <td>February</td>\n",
       "      <td>Aaron Maashoh</td>\n",
       "      <td>23</td>\n",
       "      <td>821-00-0265</td>\n",
       "      <td>Scientist</td>\n",
       "      <td>19114.12</td>\n",
       "      <td>NaN</td>\n",
       "      <td>3</td>\n",
       "      <td>...</td>\n",
       "      <td>Good</td>\n",
       "      <td>809.98</td>\n",
       "      <td>31.944960</td>\n",
       "      <td>NaN</td>\n",
       "      <td>No</td>\n",
       "      <td>49.574949</td>\n",
       "      <td>118.28022162236736</td>\n",
       "      <td>Low_spent_Large_value_payments</td>\n",
       "      <td>284.62916249607184</td>\n",
       "      <td>Good</td>\n",
       "    </tr>\n",
       "    <tr>\n",
       "      <th>2</th>\n",
       "      <td>0x1604</td>\n",
       "      <td>CUS_0xd40</td>\n",
       "      <td>March</td>\n",
       "      <td>Aaron Maashoh</td>\n",
       "      <td>-500</td>\n",
       "      <td>821-00-0265</td>\n",
       "      <td>Scientist</td>\n",
       "      <td>19114.12</td>\n",
       "      <td>NaN</td>\n",
       "      <td>3</td>\n",
       "      <td>...</td>\n",
       "      <td>Good</td>\n",
       "      <td>809.98</td>\n",
       "      <td>28.609352</td>\n",
       "      <td>22 Years and 3 Months</td>\n",
       "      <td>No</td>\n",
       "      <td>49.574949</td>\n",
       "      <td>81.699521264648</td>\n",
       "      <td>Low_spent_Medium_value_payments</td>\n",
       "      <td>331.2098628537912</td>\n",
       "      <td>Good</td>\n",
       "    </tr>\n",
       "    <tr>\n",
       "      <th>3</th>\n",
       "      <td>0x1605</td>\n",
       "      <td>CUS_0xd40</td>\n",
       "      <td>April</td>\n",
       "      <td>Aaron Maashoh</td>\n",
       "      <td>23</td>\n",
       "      <td>821-00-0265</td>\n",
       "      <td>Scientist</td>\n",
       "      <td>19114.12</td>\n",
       "      <td>NaN</td>\n",
       "      <td>3</td>\n",
       "      <td>...</td>\n",
       "      <td>Good</td>\n",
       "      <td>809.98</td>\n",
       "      <td>31.377862</td>\n",
       "      <td>22 Years and 4 Months</td>\n",
       "      <td>No</td>\n",
       "      <td>49.574949</td>\n",
       "      <td>199.4580743910713</td>\n",
       "      <td>Low_spent_Small_value_payments</td>\n",
       "      <td>223.45130972736786</td>\n",
       "      <td>Good</td>\n",
       "    </tr>\n",
       "    <tr>\n",
       "      <th>4</th>\n",
       "      <td>0x1606</td>\n",
       "      <td>CUS_0xd40</td>\n",
       "      <td>May</td>\n",
       "      <td>Aaron Maashoh</td>\n",
       "      <td>23</td>\n",
       "      <td>821-00-0265</td>\n",
       "      <td>Scientist</td>\n",
       "      <td>19114.12</td>\n",
       "      <td>1824.843333</td>\n",
       "      <td>3</td>\n",
       "      <td>...</td>\n",
       "      <td>Good</td>\n",
       "      <td>809.98</td>\n",
       "      <td>24.797347</td>\n",
       "      <td>22 Years and 5 Months</td>\n",
       "      <td>No</td>\n",
       "      <td>49.574949</td>\n",
       "      <td>41.420153086217326</td>\n",
       "      <td>High_spent_Medium_value_payments</td>\n",
       "      <td>341.48923103222177</td>\n",
       "      <td>Good</td>\n",
       "    </tr>\n",
       "    <tr>\n",
       "      <th>5</th>\n",
       "      <td>0x1607</td>\n",
       "      <td>CUS_0xd40</td>\n",
       "      <td>June</td>\n",
       "      <td>Aaron Maashoh</td>\n",
       "      <td>23</td>\n",
       "      <td>821-00-0265</td>\n",
       "      <td>Scientist</td>\n",
       "      <td>19114.12</td>\n",
       "      <td>NaN</td>\n",
       "      <td>3</td>\n",
       "      <td>...</td>\n",
       "      <td>Good</td>\n",
       "      <td>809.98</td>\n",
       "      <td>27.262259</td>\n",
       "      <td>22 Years and 6 Months</td>\n",
       "      <td>No</td>\n",
       "      <td>49.574949</td>\n",
       "      <td>62.430172331195294</td>\n",
       "      <td>!@9#%8</td>\n",
       "      <td>340.4792117872438</td>\n",
       "      <td>Good</td>\n",
       "    </tr>\n",
       "    <tr>\n",
       "      <th>6</th>\n",
       "      <td>0x1608</td>\n",
       "      <td>CUS_0xd40</td>\n",
       "      <td>July</td>\n",
       "      <td>Aaron Maashoh</td>\n",
       "      <td>23</td>\n",
       "      <td>821-00-0265</td>\n",
       "      <td>Scientist</td>\n",
       "      <td>19114.12</td>\n",
       "      <td>1824.843333</td>\n",
       "      <td>3</td>\n",
       "      <td>...</td>\n",
       "      <td>Good</td>\n",
       "      <td>809.98</td>\n",
       "      <td>22.537593</td>\n",
       "      <td>22 Years and 7 Months</td>\n",
       "      <td>No</td>\n",
       "      <td>49.574949</td>\n",
       "      <td>178.3440674122349</td>\n",
       "      <td>Low_spent_Small_value_payments</td>\n",
       "      <td>244.5653167062043</td>\n",
       "      <td>Good</td>\n",
       "    </tr>\n",
       "    <tr>\n",
       "      <th>7</th>\n",
       "      <td>0x1609</td>\n",
       "      <td>CUS_0xd40</td>\n",
       "      <td>August</td>\n",
       "      <td>NaN</td>\n",
       "      <td>23</td>\n",
       "      <td>#F%$D@*&amp;8</td>\n",
       "      <td>Scientist</td>\n",
       "      <td>19114.12</td>\n",
       "      <td>1824.843333</td>\n",
       "      <td>3</td>\n",
       "      <td>...</td>\n",
       "      <td>Good</td>\n",
       "      <td>809.98</td>\n",
       "      <td>23.933795</td>\n",
       "      <td>NaN</td>\n",
       "      <td>No</td>\n",
       "      <td>49.574949</td>\n",
       "      <td>24.785216509052056</td>\n",
       "      <td>High_spent_Medium_value_payments</td>\n",
       "      <td>358.12416760938714</td>\n",
       "      <td>Standard</td>\n",
       "    </tr>\n",
       "  </tbody>\n",
       "</table>\n",
       "<p>8 rows × 28 columns</p>\n",
       "</div>"
      ],
      "text/plain": [
       "       ID Customer_ID     Month           Name   Age          SSN Occupation  \\\n",
       "0  0x1602   CUS_0xd40   January  Aaron Maashoh    23  821-00-0265  Scientist   \n",
       "1  0x1603   CUS_0xd40  February  Aaron Maashoh    23  821-00-0265  Scientist   \n",
       "2  0x1604   CUS_0xd40     March  Aaron Maashoh  -500  821-00-0265  Scientist   \n",
       "3  0x1605   CUS_0xd40     April  Aaron Maashoh    23  821-00-0265  Scientist   \n",
       "4  0x1606   CUS_0xd40       May  Aaron Maashoh    23  821-00-0265  Scientist   \n",
       "5  0x1607   CUS_0xd40      June  Aaron Maashoh    23  821-00-0265  Scientist   \n",
       "6  0x1608   CUS_0xd40      July  Aaron Maashoh    23  821-00-0265  Scientist   \n",
       "7  0x1609   CUS_0xd40    August            NaN    23    #F%$D@*&8  Scientist   \n",
       "\n",
       "  Annual_Income  Monthly_Inhand_Salary  Num_Bank_Accounts  ...  Credit_Mix  \\\n",
       "0      19114.12            1824.843333                  3  ...           _   \n",
       "1      19114.12                    NaN                  3  ...        Good   \n",
       "2      19114.12                    NaN                  3  ...        Good   \n",
       "3      19114.12                    NaN                  3  ...        Good   \n",
       "4      19114.12            1824.843333                  3  ...        Good   \n",
       "5      19114.12                    NaN                  3  ...        Good   \n",
       "6      19114.12            1824.843333                  3  ...        Good   \n",
       "7      19114.12            1824.843333                  3  ...        Good   \n",
       "\n",
       "   Outstanding_Debt Credit_Utilization_Ratio     Credit_History_Age  \\\n",
       "0            809.98                26.822620  22 Years and 1 Months   \n",
       "1            809.98                31.944960                    NaN   \n",
       "2            809.98                28.609352  22 Years and 3 Months   \n",
       "3            809.98                31.377862  22 Years and 4 Months   \n",
       "4            809.98                24.797347  22 Years and 5 Months   \n",
       "5            809.98                27.262259  22 Years and 6 Months   \n",
       "6            809.98                22.537593  22 Years and 7 Months   \n",
       "7            809.98                23.933795                    NaN   \n",
       "\n",
       "   Payment_of_Min_Amount Total_EMI_per_month Amount_invested_monthly  \\\n",
       "0                     No           49.574949       80.41529543900253   \n",
       "1                     No           49.574949      118.28022162236736   \n",
       "2                     No           49.574949         81.699521264648   \n",
       "3                     No           49.574949       199.4580743910713   \n",
       "4                     No           49.574949      41.420153086217326   \n",
       "5                     No           49.574949      62.430172331195294   \n",
       "6                     No           49.574949       178.3440674122349   \n",
       "7                     No           49.574949      24.785216509052056   \n",
       "\n",
       "                  Payment_Behaviour     Monthly_Balance Credit_Score  \n",
       "0   High_spent_Small_value_payments  312.49408867943663         Good  \n",
       "1    Low_spent_Large_value_payments  284.62916249607184         Good  \n",
       "2   Low_spent_Medium_value_payments   331.2098628537912         Good  \n",
       "3    Low_spent_Small_value_payments  223.45130972736786         Good  \n",
       "4  High_spent_Medium_value_payments  341.48923103222177         Good  \n",
       "5                            !@9#%8   340.4792117872438         Good  \n",
       "6    Low_spent_Small_value_payments   244.5653167062043         Good  \n",
       "7  High_spent_Medium_value_payments  358.12416760938714     Standard  \n",
       "\n",
       "[8 rows x 28 columns]"
      ]
     },
     "execution_count": 21,
     "metadata": {},
     "output_type": "execute_result"
    }
   ],
   "source": [
    "cust_df = df[df['Customer_ID'] == \"CUS_0xd40\"]\n",
    "cust_df"
   ]
  },
  {
   "cell_type": "code",
   "execution_count": 55,
   "id": "453dc9cd",
   "metadata": {},
   "outputs": [
    {
     "data": {
      "text/html": [
       "<div>\n",
       "<style scoped>\n",
       "    .dataframe tbody tr th:only-of-type {\n",
       "        vertical-align: middle;\n",
       "    }\n",
       "\n",
       "    .dataframe tbody tr th {\n",
       "        vertical-align: top;\n",
       "    }\n",
       "\n",
       "    .dataframe thead th {\n",
       "        text-align: right;\n",
       "    }\n",
       "</style>\n",
       "<table border=\"1\" class=\"dataframe\">\n",
       "  <thead>\n",
       "    <tr style=\"text-align: right;\">\n",
       "      <th></th>\n",
       "      <th>Customer_ID</th>\n",
       "      <th>Interest_Rate</th>\n",
       "    </tr>\n",
       "  </thead>\n",
       "  <tbody>\n",
       "    <tr>\n",
       "      <th>0</th>\n",
       "      <td>CUS_0xd40</td>\n",
       "      <td>3</td>\n",
       "    </tr>\n",
       "    <tr>\n",
       "      <th>1</th>\n",
       "      <td>CUS_0xd40</td>\n",
       "      <td>3</td>\n",
       "    </tr>\n",
       "    <tr>\n",
       "      <th>2</th>\n",
       "      <td>CUS_0xd40</td>\n",
       "      <td>3</td>\n",
       "    </tr>\n",
       "    <tr>\n",
       "      <th>3</th>\n",
       "      <td>CUS_0xd40</td>\n",
       "      <td>3</td>\n",
       "    </tr>\n",
       "    <tr>\n",
       "      <th>4</th>\n",
       "      <td>CUS_0xd40</td>\n",
       "      <td>3</td>\n",
       "    </tr>\n",
       "    <tr>\n",
       "      <th>5</th>\n",
       "      <td>CUS_0xd40</td>\n",
       "      <td>3</td>\n",
       "    </tr>\n",
       "    <tr>\n",
       "      <th>6</th>\n",
       "      <td>CUS_0xd40</td>\n",
       "      <td>3</td>\n",
       "    </tr>\n",
       "    <tr>\n",
       "      <th>7</th>\n",
       "      <td>CUS_0xd40</td>\n",
       "      <td>3</td>\n",
       "    </tr>\n",
       "  </tbody>\n",
       "</table>\n",
       "</div>"
      ],
      "text/plain": [
       "  Customer_ID  Interest_Rate\n",
       "0   CUS_0xd40              3\n",
       "1   CUS_0xd40              3\n",
       "2   CUS_0xd40              3\n",
       "3   CUS_0xd40              3\n",
       "4   CUS_0xd40              3\n",
       "5   CUS_0xd40              3\n",
       "6   CUS_0xd40              3\n",
       "7   CUS_0xd40              3"
      ]
     },
     "execution_count": 55,
     "metadata": {},
     "output_type": "execute_result"
    }
   ],
   "source": [
    "cust_df[['Customer_ID','Interest_Rate']]"
   ]
  },
  {
   "cell_type": "markdown",
   "id": "8ee92b29",
   "metadata": {},
   "source": [
    "#### Checking values for each column"
   ]
  },
  {
   "cell_type": "markdown",
   "id": "c6ac5fb6",
   "metadata": {},
   "source": [
    "##### Occupation"
   ]
  },
  {
   "cell_type": "code",
   "execution_count": 125,
   "id": "b01e6ef9",
   "metadata": {},
   "outputs": [
    {
     "data": {
      "text/plain": [
       "array(['Scientist', '_______', 'Teacher', 'Engineer', 'Entrepreneur',\n",
       "       'Developer', 'Lawyer', 'Media_Manager', 'Doctor', 'Journalist',\n",
       "       'Manager', 'Accountant', 'Musician', 'Mechanic', 'Writer',\n",
       "       'Architect'], dtype=object)"
      ]
     },
     "execution_count": 125,
     "metadata": {},
     "output_type": "execute_result"
    }
   ],
   "source": [
    "df['Occupation'].unique()"
   ]
  },
  {
   "cell_type": "markdown",
   "id": "daad2102",
   "metadata": {},
   "source": [
    "##### Annual Income"
   ]
  },
  {
   "cell_type": "code",
   "execution_count": 126,
   "id": "28d53a7e",
   "metadata": {},
   "outputs": [
    {
     "data": {
      "text/plain": [
       "array(['19114.12', '34847.84', '34847.84_', ..., '20002.88', '39628.99',\n",
       "       '39628.99_'], shape=(18940,), dtype=object)"
      ]
     },
     "execution_count": 126,
     "metadata": {},
     "output_type": "execute_result"
    }
   ],
   "source": [
    "df['Annual_Income'].unique()"
   ]
  },
  {
   "cell_type": "markdown",
   "id": "09ddcb9c",
   "metadata": {},
   "source": [
    "##### Monthly salary"
   ]
  },
  {
   "cell_type": "code",
   "execution_count": 127,
   "id": "0cd9f079",
   "metadata": {},
   "outputs": [
    {
     "data": {
      "text/plain": [
       "array([1824.84333333,           nan, 3037.98666667, ..., 3097.00833333,\n",
       "       1929.90666667, 3359.41583333], shape=(13236,))"
      ]
     },
     "execution_count": 127,
     "metadata": {},
     "output_type": "execute_result"
    }
   ],
   "source": [
    "df['Monthly_Inhand_Salary'].unique()"
   ]
  },
  {
   "cell_type": "markdown",
   "id": "ee34791b",
   "metadata": {},
   "source": [
    "##### Number of bank accounts"
   ]
  },
  {
   "cell_type": "code",
   "execution_count": 128,
   "id": "67a4f564",
   "metadata": {},
   "outputs": [
    {
     "data": {
      "text/plain": [
       "array([   3,    2,    1,    7,    4,    0,    8,    5,    6,    9,   10,\n",
       "       1414, 1231,   67,  572, 1488,   91,  528, 1647, 1696, 1338,  649,\n",
       "        889, 1668,  685,  857,  975, 1496, 1534, 1620,   37, 1388, 1429,\n",
       "       1332, 1588,  120, 1777, 1096,  803,  494,  744, 1139,  831, 1613,\n",
       "        741,  121,  665, 1748, 1644,  823, 1356, 1651,   87,  711,  450,\n",
       "        210, 1671, 1722,  648,  672, 1662, 1495,  510,  666,  429, 1131,\n",
       "       1434,  980, 1026,  526,  718, 1300, 1312, 1315,  501, 1566,  480,\n",
       "       1042,  322,  628, 1016,  333, 1265,  791,  427,  563,  905, 1190,\n",
       "       1036, 1611,   38,  619,  555, 1769,  280,  752, 1201,  812, 1487,\n",
       "        222,  212, 1019, 1222,  610, 1714, 1308,  525, 1158, 1115, 1616,\n",
       "        754, 1601,  797, 1577,  521,  703,  933,  959,  809, 1089, 1656,\n",
       "       1113, 1715,  964, 1533, 1789,  871,  434, 1295,  565, 1724,  603,\n",
       "        677,  541,  698, 1101,  464, 1539, 1462, 1011, 1257, 1727,   45,\n",
       "        244, 1266,  897,  535,  484,  331,  675,  826,  946, 1675,  105,\n",
       "       1327,  845,  549,  473,  710,  527,  908,   68, 1628,  371,  445,\n",
       "       1168,  868,  687,  455, 1003,   26, 1526,  618,  598,  351, 1342,\n",
       "       1783,  683, 1557, 1335,  416, 1747,  137, 1475,  373,  338,  942,\n",
       "        170,  973, 1605, 1478,  386, 1448, 1033, 1225,  596, 1731, 1214,\n",
       "       1481, 1105,  580,  347,  108,  148, 1001, 1467, 1114, 1000,  632,\n",
       "        246, 1032, 1394,  689,  482, 1303,  720,  574,  588, 1358,  650,\n",
       "        708,  179,  844, 1140,  335,   60,  732, 1494, 1436,  820,   28,\n",
       "       1576,  818,  794,  731,  534,  556,  691, 1197, 1155, 1255, 1763,\n",
       "        769, 1124,  819,  318, 1418,  882,   61,  264,  194, 1798,  611,\n",
       "        840,  505, 1110,  719, 1065,  195,  584,  550, 1014, 1022,  903,\n",
       "        976,   31,  417, 1423, 1148,  616,  786, 1424,   55, 1061, 1293,\n",
       "        342,   43, 1540,  488, 1122, 1274, 1075,  722, 1268,   41,  814,\n",
       "       1564, 1390, 1141,  497,  224, 1135,  441,  374,   74,  314, 1408,\n",
       "        475, 1015,  681, 1236,   59, 1425, 1637, 1240,  299, 1657, 1123,\n",
       "       1091, 1264, 1561, 1632, 1562,  305, 1318, 1217, 1699, 1070,  864,\n",
       "       1391,  112,  860,  595,  229, 1624, 1051,  821, 1794, 1565,  397,\n",
       "       1368, 1353,  508, 1725, 1413, 1239,  847, 1317,  570,   -1,  302,\n",
       "        456,  198,  122,  832,  167, 1547, 1666, 1241,  275,  566, 1779,\n",
       "        201,  334, 1169,  834, 1174, 1040,  530, 1676, 1468, 1093,  706,\n",
       "        489, 1592,  688,  830, 1784, 1543, 1600, 1178,  228,  483, 1501,\n",
       "        950,  548,  870, 1211,  604,  804,  129,  540, 1702, 1636, 1680,\n",
       "       1443, 1252,  499,  180,  702,  885, 1652,  795,  938,  833, 1654,\n",
       "       1793,  303, 1621, 1516, 1138,   32,  160, 1491,   83,  423,  928,\n",
       "        339,  931,  243, 1756,  583, 1695,  274,  955,  430, 1247,  490,\n",
       "        726,  987,   42, 1626, 1470, 1739,  887,  211,  385, 1221,  753,\n",
       "        324,  406, 1677, 1567,  785,  182, 1079,  184, 1771, 1048, 1069,\n",
       "        561,  589, 1634,   70, 1371,  647, 1153,  239,  801, 1279, 1287,\n",
       "        425, 1589,  929, 1511, 1765, 1047, 1005, 1337,  981, 1766,  805,\n",
       "       1574, 1638,  186,   99,  288, 1650,  974,  996, 1595, 1594,  865,\n",
       "        203, 1440,  448,  285,   94,  875,  916, 1733,  240,  330,   79,\n",
       "         82,  135, 1043,  142, 1235, 1569, 1741, 1461,  560, 1551,  409,\n",
       "        418, 1017,  892,  354,  124,  935,  313, 1363,  232, 1200, 1184,\n",
       "       1432, 1479, 1407, 1080, 1719, 1024,  970,  761,  158,  312, 1060,\n",
       "        684,  696, 1520, 1352, 1502,  936,  485,  350, 1560, 1166, 1013,\n",
       "         34, 1691,  715, 1570, 1751, 1503, 1194, 1558,  411,  298,  260,\n",
       "        308,  796, 1442,  912, 1256,  746,  435,  620, 1774, 1181, 1323,\n",
       "        837,  307, 1430,   53, 1447,  259,  921,  328, 1034,  353,  822,\n",
       "        654,  829,  609,  166,  136,  172, 1306, 1028,  808,  270, 1072,\n",
       "        514,  156, 1331, 1630,  462, 1310, 1210,  265,   50, 1355,  394,\n",
       "       1393,  226,  991,  368, 1018, 1037,  627, 1744,  523,  894,  944,\n",
       "       1730, 1076, 1094, 1617,  449,  678, 1164,   30,  817, 1568,  607,\n",
       "        709, 1230,  606, 1480,   29, 1522, 1670,   49,  626, 1641, 1712,\n",
       "       1370, 1782,  119, 1137, 1277,   35,  947,  851, 1041, 1583, 1536,\n",
       "        575,  196,  143,   33,  383,   57,  621,  230,  162,  352, 1504,\n",
       "       1250,   39,  511, 1364,  918, 1665,  734, 1320,  316,  771,  705,\n",
       "       1435,  304,  116, 1553,  424,  493, 1530, 1195, 1604,  624, 1599,\n",
       "        782, 1606, 1622, 1285,  657, 1275, 1291, 1402,  420,  932,  468,\n",
       "        442, 1145,   93, 1218,  283,  292,  927, 1711, 1422,  364, 1398,\n",
       "        594,  789, 1350,  676,  216, 1012, 1426,  717, 1095, 1786,  850,\n",
       "        777,  375,  356,  701, 1325,  290, 1775,  467, 1365, 1549,  848,\n",
       "       1453,   84, 1458,  888,  770, 1591,  582,   40, 1261, 1764, 1067,\n",
       "        145,  471,  476, 1128,  967,  622,  641,  539,  858,  295, 1395,\n",
       "       1517, 1297, 1126,  926,  157, 1377,  993,  125,  340,  271, 1669,\n",
       "        272,  979,  707,  564,  997,  447, 1578, 1465,  415,  714, 1276,\n",
       "         18, 1316,  587,  245,  446,  978, 1002, 1631,  341, 1307,  524,\n",
       "       1267,  103,  242, 1378, 1328, 1294, 1309,  724,  197,  999,  547,\n",
       "       1100, 1456,   77, 1506, 1472,  460,   11, 1420,  218, 1253,  392,\n",
       "        670, 1321,  100, 1205,  443,   92,  811,  774,  159, 1770,  972,\n",
       "       1157, 1102,  217,  358, 1473,  440,  140, 1361,  481,  512, 1117,\n",
       "        300, 1263, 1581,  901, 1298,  310,  637,  758, 1734, 1288,  326,\n",
       "       1678, 1444, 1344, 1379,  828,  982,  104,  317, 1529, 1627,  115,\n",
       "        645, 1404,  940, 1305, 1049, 1645, 1466,  175, 1165, 1419, 1031,\n",
       "        581, 1580,  854,  725, 1655, 1134,  569, 1387, 1381, 1760,  360,\n",
       "       1735, 1146, 1411,  969, 1281,  591,  327,  466,  667,  147,  109,\n",
       "        784, 1396, 1349,  839, 1284,  802,   97,  281, 1382, 1039, 1483,\n",
       "        376, 1249, 1207, 1213, 1219, 1345, 1523,  949, 1063,  983,  886,\n",
       "       1151,  992, 1107, 1314,  151,   69, 1489,  695,  738,  444, 1525,\n",
       "        825,  506,  518, 1077, 1354,  713,  690,  861, 1389,  968,  421,\n",
       "        907,  205,  856,   72,  651,  161,  867,  971, 1078,   64, 1701,\n",
       "        546, 1216,   27, 1709,  193, 1528,  957,  577,  346, 1416,  396,\n",
       "       1182,  652, 1083, 1778,  680, 1754, 1544, 1703,  636,  472,  453,\n",
       "        463,   75,  756,  296,  891,  813,  474,  697])"
      ]
     },
     "execution_count": 128,
     "metadata": {},
     "output_type": "execute_result"
    }
   ],
   "source": [
    "df['Num_Bank_Accounts'].unique()"
   ]
  },
  {
   "cell_type": "markdown",
   "id": "b218f838",
   "metadata": {},
   "source": [
    "##### Number of credit cards"
   ]
  },
  {
   "cell_type": "code",
   "execution_count": 37,
   "id": "4870e620",
   "metadata": {},
   "outputs": [
    {
     "data": {
      "text/plain": [
       "array([   4, 1385,    5, ...,  955, 1430,  679], shape=(1179,))"
      ]
     },
     "execution_count": 37,
     "metadata": {},
     "output_type": "execute_result"
    }
   ],
   "source": [
    "# Represents the number of other credit cards held by a person\n",
    "df['Num_Credit_Card'].unique()"
   ]
  },
  {
   "cell_type": "markdown",
   "id": "eb01db6a",
   "metadata": {},
   "source": [
    "##### Interest Rate"
   ]
  },
  {
   "cell_type": "code",
   "execution_count": 72,
   "id": "9558c7d7",
   "metadata": {},
   "outputs": [
    {
     "data": {
      "text/plain": [
       "count    100000.000000\n",
       "mean         72.466040\n",
       "std         466.422621\n",
       "min           1.000000\n",
       "25%           8.000000\n",
       "50%          13.000000\n",
       "75%          20.000000\n",
       "max        5797.000000\n",
       "Name: Interest_Rate, dtype: float64"
      ]
     },
     "execution_count": 72,
     "metadata": {},
     "output_type": "execute_result"
    }
   ],
   "source": [
    "# Represents the interest rate on credit card\n",
    "df['Interest_Rate'].describe()"
   ]
  },
  {
   "cell_type": "code",
   "execution_count": 77,
   "id": "0c4000d0",
   "metadata": {},
   "outputs": [
    {
     "data": {
      "image/png": "[encoded data removed]",
      "text/plain": [
       "<Figure size 800x500 with 1 Axes>"
      ]
     },
     "metadata": {},
     "output_type": "display_data"
    }
   ],
   "source": [
    "''' Credit card APRs are usually between 10% and 60% worldwide. I have no information on what type\n",
    "is the data on this column (% or basis points). I'm going to assume is %. \n",
    "Some numbers weren't making too much sense (such as 5797), so i'm initially taking them away\n",
    "to see the dataset behavior '''\n",
    "\n",
    "plt.figure(figsize=(8, 5))\n",
    "df[\"Interest_Rate\"].hist(bins=5, color='skyblue', edgecolor='black')\n",
    "plt.title('Histogram of Interest Rate')\n",
    "plt.xlabel('Interest Rate')\n",
    "plt.ylabel('Frequency')\n",
    "plt.grid(axis='y', alpha=0.75)\n",
    "plt.show()"
   ]
  },
  {
   "cell_type": "code",
   "execution_count": 78,
   "id": "a7c36de9",
   "metadata": {},
   "outputs": [
    {
     "data": {
      "image/png": "[encoded data removed]",
      "text/plain": [
       "<Figure size 800x500 with 1 Axes>"
      ]
     },
     "metadata": {},
     "output_type": "display_data"
    }
   ],
   "source": [
    "df_temp = df[df[\"Interest_Rate\"].between(0, 100)]\n",
    "\n",
    "plt.figure(figsize=(8, 5))\n",
    "df_temp[\"Interest_Rate\"].hist(bins=5, color='skyblue', edgecolor='black')\n",
    "plt.title('Histogram of Interest Rate')\n",
    "plt.xlabel('Interest Rate')\n",
    "plt.ylabel('Frequency')\n",
    "plt.grid(axis='y', alpha=0.75)\n",
    "plt.show()"
   ]
  },
  {
   "cell_type": "code",
   "execution_count": 84,
   "id": "72413db2",
   "metadata": {},
   "outputs": [
    {
     "name": "stdout",
     "output_type": "stream",
     "text": [
      "Number of elements:  12500\n"
     ]
    }
   ],
   "source": [
    "print(\"Number of elements: \", len(df_temp['Customer_ID'].unique()))"
   ]
  },
  {
   "cell_type": "markdown",
   "id": "1bc46a4e",
   "metadata": {},
   "source": [
    "##### Number of Loans"
   ]
  },
  {
   "cell_type": "code",
   "execution_count": 111,
   "id": "f509c613",
   "metadata": {},
   "outputs": [],
   "source": [
    "# Represents the number of loans taken from the bank\n",
    "df['Num_of_Loan'].unique()\n",
    "\n",
    "''' Many numbers have [-/_] at the beggining or end of the string. '''\n",
    "df_copy = df.copy()\n",
    "df_copy['Num_of_Loan'] = df_copy['Num_of_Loan'].apply(lambda x: x.replace('_','').replace('-',''))\n",
    "# df_copy['Num_of_Loan'].unique()"
   ]
  },
  {
   "cell_type": "markdown",
   "id": "8c078499",
   "metadata": {},
   "source": [
    "##### Type of Loan"
   ]
  },
  {
   "cell_type": "code",
   "execution_count": null,
   "id": "3731207b",
   "metadata": {},
   "outputs": [],
   "source": [
    "# Represents the types of loan taken by a person\n",
    "df['Type_of_Loan'].unique()\n",
    "\n",
    "df_copy = df.copy()\n",
    "df_copy['Type_of_Loan'] = df_copy['Type_of_Loan'].fillna('Not Specified')\n",
    "\n",
    "def list_loans(x):\n",
    "    return [word.strip().replace('and ','') for word in x.split(',')]\n",
    "\n",
    "df_copy['Loans'] = df_copy['Type_of_Loan'].apply(lambda x: list_loans(x))"
   ]
  },
  {
   "cell_type": "code",
   "execution_count": null,
   "id": "42641fcc",
   "metadata": {},
   "outputs": [],
   "source": [
    "''' Creating columns for each of the loans, so i can know exactly the distribution of loans per type '''\n",
    "df_exploded = df_copy.explode(\"Loans\")\n",
    "dummies = pd.get_dummies(df_exploded[\"Loans\"])\n",
    "df_final = df_exploded[[\"ID\"]].join(dummies).groupby(\"ID\").sum().reset_index()\n",
    "\n",
    "for col in df_final.columns:\n",
    "    df_final.rename(columns={col:col.replace(' ','')},inplace=True)\n",
    "df_final.drop(\"\")"
   ]
  },
  {
   "cell_type": "code",
   "execution_count": 110,
   "id": "9f953b53",
   "metadata": {},
   "outputs": [
    {
     "data": {
      "text/html": [
       "<div>\n",
       "<style scoped>\n",
       "    .dataframe tbody tr th:only-of-type {\n",
       "        vertical-align: middle;\n",
       "    }\n",
       "\n",
       "    .dataframe tbody tr th {\n",
       "        vertical-align: top;\n",
       "    }\n",
       "\n",
       "    .dataframe thead th {\n",
       "        text-align: right;\n",
       "    }\n",
       "</style>\n",
       "<table border=\"1\" class=\"dataframe\">\n",
       "  <thead>\n",
       "    <tr style=\"text-align: right;\">\n",
       "      <th></th>\n",
       "      <th>ID</th>\n",
       "      <th>AutoLoan</th>\n",
       "      <th>Credit-BuilderLoan</th>\n",
       "      <th>DebtConsolidationLoan</th>\n",
       "      <th>HomeEquityLoan</th>\n",
       "      <th>MortgageLoan</th>\n",
       "      <th>NotSpecified</th>\n",
       "      <th>PaydayLoan</th>\n",
       "      <th>PersonalLoan</th>\n",
       "      <th>StudentLoan</th>\n",
       "    </tr>\n",
       "  </thead>\n",
       "  <tbody>\n",
       "    <tr>\n",
       "      <th>0</th>\n",
       "      <td>0x10002</td>\n",
       "      <td>0</td>\n",
       "      <td>0</td>\n",
       "      <td>0</td>\n",
       "      <td>0</td>\n",
       "      <td>0</td>\n",
       "      <td>0</td>\n",
       "      <td>0</td>\n",
       "      <td>1</td>\n",
       "      <td>0</td>\n",
       "    </tr>\n",
       "    <tr>\n",
       "      <th>1</th>\n",
       "      <td>0x10003</td>\n",
       "      <td>0</td>\n",
       "      <td>0</td>\n",
       "      <td>0</td>\n",
       "      <td>0</td>\n",
       "      <td>0</td>\n",
       "      <td>0</td>\n",
       "      <td>0</td>\n",
       "      <td>1</td>\n",
       "      <td>0</td>\n",
       "    </tr>\n",
       "    <tr>\n",
       "      <th>2</th>\n",
       "      <td>0x10004</td>\n",
       "      <td>0</td>\n",
       "      <td>0</td>\n",
       "      <td>0</td>\n",
       "      <td>0</td>\n",
       "      <td>0</td>\n",
       "      <td>0</td>\n",
       "      <td>0</td>\n",
       "      <td>1</td>\n",
       "      <td>0</td>\n",
       "    </tr>\n",
       "    <tr>\n",
       "      <th>3</th>\n",
       "      <td>0x10005</td>\n",
       "      <td>0</td>\n",
       "      <td>0</td>\n",
       "      <td>0</td>\n",
       "      <td>0</td>\n",
       "      <td>0</td>\n",
       "      <td>0</td>\n",
       "      <td>0</td>\n",
       "      <td>1</td>\n",
       "      <td>0</td>\n",
       "    </tr>\n",
       "    <tr>\n",
       "      <th>4</th>\n",
       "      <td>0x10006</td>\n",
       "      <td>0</td>\n",
       "      <td>0</td>\n",
       "      <td>0</td>\n",
       "      <td>0</td>\n",
       "      <td>0</td>\n",
       "      <td>0</td>\n",
       "      <td>0</td>\n",
       "      <td>1</td>\n",
       "      <td>0</td>\n",
       "    </tr>\n",
       "    <tr>\n",
       "      <th>...</th>\n",
       "      <td>...</td>\n",
       "      <td>...</td>\n",
       "      <td>...</td>\n",
       "      <td>...</td>\n",
       "      <td>...</td>\n",
       "      <td>...</td>\n",
       "      <td>...</td>\n",
       "      <td>...</td>\n",
       "      <td>...</td>\n",
       "      <td>...</td>\n",
       "    </tr>\n",
       "    <tr>\n",
       "      <th>99995</th>\n",
       "      <td>0xfff9</td>\n",
       "      <td>7</td>\n",
       "      <td>0</td>\n",
       "      <td>7</td>\n",
       "      <td>7</td>\n",
       "      <td>0</td>\n",
       "      <td>0</td>\n",
       "      <td>14</td>\n",
       "      <td>0</td>\n",
       "      <td>14</td>\n",
       "    </tr>\n",
       "    <tr>\n",
       "      <th>99996</th>\n",
       "      <td>0xfffa</td>\n",
       "      <td>7</td>\n",
       "      <td>0</td>\n",
       "      <td>7</td>\n",
       "      <td>7</td>\n",
       "      <td>0</td>\n",
       "      <td>0</td>\n",
       "      <td>14</td>\n",
       "      <td>0</td>\n",
       "      <td>14</td>\n",
       "    </tr>\n",
       "    <tr>\n",
       "      <th>99997</th>\n",
       "      <td>0xfffb</td>\n",
       "      <td>7</td>\n",
       "      <td>0</td>\n",
       "      <td>7</td>\n",
       "      <td>7</td>\n",
       "      <td>0</td>\n",
       "      <td>0</td>\n",
       "      <td>14</td>\n",
       "      <td>0</td>\n",
       "      <td>14</td>\n",
       "    </tr>\n",
       "    <tr>\n",
       "      <th>99998</th>\n",
       "      <td>0xfffc</td>\n",
       "      <td>7</td>\n",
       "      <td>0</td>\n",
       "      <td>7</td>\n",
       "      <td>7</td>\n",
       "      <td>0</td>\n",
       "      <td>0</td>\n",
       "      <td>14</td>\n",
       "      <td>0</td>\n",
       "      <td>14</td>\n",
       "    </tr>\n",
       "    <tr>\n",
       "      <th>99999</th>\n",
       "      <td>0xfffd</td>\n",
       "      <td>7</td>\n",
       "      <td>0</td>\n",
       "      <td>7</td>\n",
       "      <td>7</td>\n",
       "      <td>0</td>\n",
       "      <td>0</td>\n",
       "      <td>14</td>\n",
       "      <td>0</td>\n",
       "      <td>14</td>\n",
       "    </tr>\n",
       "  </tbody>\n",
       "</table>\n",
       "<p>100000 rows × 10 columns</p>\n",
       "</div>"
      ],
      "text/plain": [
       "            ID  AutoLoan  Credit-BuilderLoan  DebtConsolidationLoan  \\\n",
       "0      0x10002         0                   0                      0   \n",
       "1      0x10003         0                   0                      0   \n",
       "2      0x10004         0                   0                      0   \n",
       "3      0x10005         0                   0                      0   \n",
       "4      0x10006         0                   0                      0   \n",
       "...        ...       ...                 ...                    ...   \n",
       "99995   0xfff9         7                   0                      7   \n",
       "99996   0xfffa         7                   0                      7   \n",
       "99997   0xfffb         7                   0                      7   \n",
       "99998   0xfffc         7                   0                      7   \n",
       "99999   0xfffd         7                   0                      7   \n",
       "\n",
       "       HomeEquityLoan  MortgageLoan  NotSpecified  PaydayLoan  PersonalLoan  \\\n",
       "0                   0             0             0           0             1   \n",
       "1                   0             0             0           0             1   \n",
       "2                   0             0             0           0             1   \n",
       "3                   0             0             0           0             1   \n",
       "4                   0             0             0           0             1   \n",
       "...               ...           ...           ...         ...           ...   \n",
       "99995               7             0             0          14             0   \n",
       "99996               7             0             0          14             0   \n",
       "99997               7             0             0          14             0   \n",
       "99998               7             0             0          14             0   \n",
       "99999               7             0             0          14             0   \n",
       "\n",
       "       StudentLoan  \n",
       "0                0  \n",
       "1                0  \n",
       "2                0  \n",
       "3                0  \n",
       "4                0  \n",
       "...            ...  \n",
       "99995           14  \n",
       "99996           14  \n",
       "99997           14  \n",
       "99998           14  \n",
       "99999           14  \n",
       "\n",
       "[100000 rows x 10 columns]"
      ]
     },
     "execution_count": 110,
     "metadata": {},
     "output_type": "execute_result"
    }
   ],
   "source": [
    "df_final"
   ]
  },
  {
   "cell_type": "markdown",
   "id": "b97ca3c9",
   "metadata": {},
   "source": [
    "##### Average number of days delayed"
   ]
  },
  {
   "cell_type": "code",
   "execution_count": 113,
   "id": "e4a1bc55",
   "metadata": {},
   "outputs": [
    {
     "data": {
      "text/plain": [
       "array([ 3, -1,  5,  6,  8,  7, 13, 10,  0,  4,  9,  1, 12, 11, 30, 31, 34,\n",
       "       27, 14,  2, -2, 16, 17, 15, 23, 22, 21, 18, 19, 52, 51, 48, 53, 26,\n",
       "       43, 28, 25, 20, 47, 46, 49, 24, 61, 29, 50, 58, 45, 59, 55, 56, 57,\n",
       "       54, 62, 65, 64, 67, 36, 41, 33, 32, 39, 44, 42, 60, 35, 38, -3, 63,\n",
       "       40, 37, -5, -4, 66])"
      ]
     },
     "execution_count": 113,
     "metadata": {},
     "output_type": "execute_result"
    }
   ],
   "source": [
    "# Represents the average number of days delayed from the payment date\n",
    "''' Negative numbers may be from payments done before a particular due date '''\n",
    "\n",
    "df['Delay_from_due_date'].unique()"
   ]
  },
  {
   "cell_type": "markdown",
   "id": "ba4207de",
   "metadata": {},
   "source": [
    "##### Average number of delayed payments"
   ]
  },
  {
   "cell_type": "code",
   "execution_count": 115,
   "id": "ff3851b4",
   "metadata": {},
   "outputs": [
    {
     "data": {
      "text/plain": [
       "array(['7', '0', '4', '8', '6', '1', '-1', '3', '5', '9', '12', '15',\n",
       "       '17', '10', '2', '11', '14', '20', '22', '13', '16', '18', '19',\n",
       "       '23', '24', '21', '3318', '3083', '1338', '26', '3104', '25',\n",
       "       '183', '1106', '834', '2672', '2008', '-3', '538', '27', '-2',\n",
       "       '3478', '2420', '707', '708', '3815', '28', '1867', '2250', '1463',\n",
       "       '4126', '2882', '1941', '2655', '2628', '132', '3069', '306',\n",
       "       '3539', '3684', '1823', '4128', '1946', '827', '2297', '2566',\n",
       "       '904', '182', '929', '3568', '2503', '1552', '2812', '1697',\n",
       "       '3764', '851', '3905', '923', '88', '1668', '3253', '808', '2689',\n",
       "       '3858', '642', '3457', '1402', '1732', '3154', '847', '3037',\n",
       "       '2204', '3103', '1063', '2056', '1282', '1841', '2569', '211',\n",
       "       '793', '3484', '411', '3491', '2072', '3050', '1049', '2162',\n",
       "       '3402', '2753', '1718', '1014', '3260', '3855', '84', '2311',\n",
       "       '3251', '1832', '4069', '3010', '733', '4241', '166', '2461',\n",
       "       '1749', '3200', '663', '2185', '4161', '3009', '359', '2015',\n",
       "       '1523', '594', '1079', '1199', '186', '1015', '1989', '281', '559',\n",
       "       '2165', '1509', '3545', '779', '192', '4311', '2323', '1471',\n",
       "       '1538', '3529', '439', '3456', '3040', '2697', '3179', '1332',\n",
       "       '3175', '3112', '829', '4022', '3870', '4023', '531', '1511',\n",
       "       '3092', '3191', '2400', '3621', '3536', '544', '1864', '142',\n",
       "       '2300', '264', '72', '497', '398', '2222', '3960', '1473', '3043',\n",
       "       '4216', '2903', '2658', '4042', '1323', '2184', '921', '1328',\n",
       "       '3404', '2438', '809', '47', '1996', '4164', '1370', '1204',\n",
       "       '2167', '4011', '2590', '2594', '2533', '1663', '1018', '2919',\n",
       "       '3458', '3316', '2589', '2801', '3355', '2529', '2488', '4266',\n",
       "       '1243', '739', '845', '4107', '1884', '337', '2660', '290', '674',\n",
       "       '2450', '3738', '1792', '2823', '2570', '775', '960', '482',\n",
       "       '1706', '2493', '3623', '3031', '2794', '2219', '758', '1849',\n",
       "       '3559', '4096', '3726', '1953', '2657', '4043', '2938', '4384',\n",
       "       '1647', '2694', '3533', '519', '2677', '2413', '4139', '2609',\n",
       "       '4326', '4211', '823', '3011', '1608', '2860', '4219', '4047',\n",
       "       '1531', '742', '52', '4024', '1673', '49', '2243', '1685', '1869',\n",
       "       '2587', '3489', '749', '1164', '2616', '848', '4134', '1530',\n",
       "       '1502', '4075', '3845', '1060', '2573', '2128', '328', '640',\n",
       "       '2585', '2230', '1795', '1180', '1534', '3739', '3313', '4191',\n",
       "       '996', '372', '3340', '3177', '602', '787', '4135', '3878', '4059',\n",
       "       '1218', '4051', '1766', '1359', '3107', '585', '1263', '2511',\n",
       "       '709', '3632', '4077', '2943', '2793', '3245', '2317', '1640',\n",
       "       '2237', '3819', '252', '3978', '1498', '1833', '2737', '1192',\n",
       "       '1481', '700', '271', '2286', '273', '1215', '3944', '2070',\n",
       "       '1478', '3749', '871', '2508', '2959', '130', '294', '3097',\n",
       "       '3511', '415', '2196', '2138', '2149', '1874', '1553', '3847',\n",
       "       '3222', '1222', '2907', '3051', '98', '1598', '416', '2314',\n",
       "       '2955', '1691', '1450', '2021', '1636', '80', '3708', '195', '320',\n",
       "       '2945', '1911', '3416', '3796', '4159', '2255', '938', '4397',\n",
       "       '3776', '2148', '1994', '853', '1178', '1633', '196', '3864',\n",
       "       '714', '1687', '1034', '468', '1337', '2044', '1541', '3661',\n",
       "       '1211', '2645', '2007', '102', '1891', '3162', '3142', '2766',\n",
       "       '3881', '2728', '2671', '1952', '3580', '2705', '4251', '3840',\n",
       "       '972', '3119', '3502', '4185', '2954', '683', '1614', '1572',\n",
       "       '4302', '3447', '1852', '2131', '1900', '1699', '133', '2018',\n",
       "       '2127', '508', '210', '577', '1664', '2604', '1411', '2351', '867',\n",
       "       '1371', '2352', '1191', '905', '4053', '3869', '933', '3660',\n",
       "       '3300', '3629', '3208', '2142', '2521', '450', '583', '876', '121',\n",
       "       '3919', '2560', '2578', '2060', '813', '1236', '1489', '4360',\n",
       "       '1154', '2544', '4172', '2924', '426', '4270', '2768', '3909',\n",
       "       '3951', '2712', '2498', '3171', '1750', '197', '265', '4293',\n",
       "       '887', '2707', '2397', '4337', '4249', '2751', '2950', '1859',\n",
       "       '107', '2348', '2506', '2810', '2873', '1301', '2262', '1890',\n",
       "       '3078', '3865', '3268', '2777', '3105', '1278', '3793', '2276',\n",
       "       '2879', '4298', '2141', '223', '2239', '846', '1862', '2756',\n",
       "       '1181', '1184', '2617', '3972', '2334', '3900', '2759', '4169',\n",
       "       '2280', '2492', '2729', '3750', '1825', '309', '2431', '3099',\n",
       "       '2080', '2279', '2666', '3722', '1976', '529', '1985', '3060',\n",
       "       '4278', '3212', '46', '3148', '3467', '4231', '3790', '473',\n",
       "       '1536', '3955', '2324', '2381', '1177', '371', '2896', '3880',\n",
       "       '2991', '4319', '1061', '662', '4144', '693', '2006', '3115',\n",
       "       '2278', '3751', '1861', '4262', '2913', '2615', '3492', '800',\n",
       "       '3766', '384', '3407', '1087', '3329', '1086', '2216', '2457',\n",
       "       '3522', '3274', '3488', '2854', '238', '351', '3706', '4280',\n",
       "       '4095', '2926', '1329', '3370', '283', '1392', '1743', '2429',\n",
       "       '974', '3156', '1133', '4388', '3243', '4282', '2523', '4281',\n",
       "       '3415', '2001', '441', '94', '3499', '969', '3368', '106', '1004',\n",
       "       '2638', '3946', '2956', '4324', '85', '4113', '819', '615', '1172',\n",
       "       '2553', '1765', '3495', '2820', '4239', '4340', '1295', '2636',\n",
       "       '4295', '1653', '1325', '1879', '1096', '1735', '3584', '1073',\n",
       "       '1975', '3827', '2552', '3754', '2378', '532', '926', '2376',\n",
       "       '3636', '3763', '778', '2621', '804', '754', '2418', '4019',\n",
       "       '3926', '3861', '3574', '175', '162', '2834', '3765', '2354',\n",
       "       '523', '2274', '1606', '1443', '1354', '1422', '1045', '4106',\n",
       "       '3155', '666', '659', '3229', '1216', '2076', '2384', '1954',\n",
       "       '719', '2534', '4002', '541', '2875', '4344', '2081', '3894',\n",
       "       '1256', '676', '4178', '399', '86', '1571', '4037', '1967', '4005',\n",
       "       '3216', '1150', '2591', '1801', '3721', '1775', '2260', '3707',\n",
       "       '4292', '1820', '145', '1480', '1850', '430', '217', '3920',\n",
       "       '1389', '1579', '3391', '2385', '3336', '3392', '3688', '221',\n",
       "       '2047'], dtype=object)"
      ]
     },
     "execution_count": 115,
     "metadata": {},
     "output_type": "execute_result"
    }
   ],
   "source": [
    "# Represents the average number of payments delayed by a person\n",
    "''' How many payments have a person delayed? '''\n",
    "df['Num_of_Delayed_Payment'].unique()\n",
    "\n",
    "\n",
    "''' Many numbers have [-/_] at the beggining or end of the string. '''\n",
    "df_copy = df.copy()\n",
    "df_copy['Num_of_Delayed_Payment'] = df_copy['Num_of_Delayed_Payment'].fillna('0')\n",
    "df_copy['Num_of_Delayed_Payment'] = df_copy['Num_of_Delayed_Payment'].apply(lambda x: x.replace('_',''))\n",
    "df_copy['Num_of_Delayed_Payment'].unique()"
   ]
  },
  {
   "cell_type": "markdown",
   "id": "6e21b4a0",
   "metadata": {},
   "source": [
    "##### Percentage change in credit card limit"
   ]
  },
  {
   "cell_type": "code",
   "execution_count": 116,
   "id": "71010e23",
   "metadata": {},
   "outputs": [
    {
     "data": {
      "text/plain": [
       "array(['11.27', '', '6.27', ..., '17.509999999999998', '25.16', '21.17'],\n",
       "      shape=(4384,), dtype=object)"
      ]
     },
     "execution_count": 116,
     "metadata": {},
     "output_type": "execute_result"
    }
   ],
   "source": [
    "# Represents the percentage change in credit card limit\n",
    "df['Changed_Credit_Limit'].unique()\n",
    "\n",
    "df_copy = df.copy()\n",
    "df_copy['Changed_Credit_Limit'] = df_copy['Changed_Credit_Limit'].fillna('0')\n",
    "df_copy['Changed_Credit_Limit'] = df_copy['Changed_Credit_Limit'].apply(lambda x: x.replace('_',''))\n",
    "df_copy['Changed_Credit_Limit'].unique()"
   ]
  },
  {
   "cell_type": "markdown",
   "id": "777d8ac8",
   "metadata": {},
   "source": [
    "##### Number of credt card inquiries"
   ]
  },
  {
   "cell_type": "code",
   "execution_count": 119,
   "id": "fe8a8705",
   "metadata": {},
   "outputs": [
    {
     "name": "stdout",
     "output_type": "stream",
     "text": [
      "Number of null values: 1965\n"
     ]
    }
   ],
   "source": [
    "# Represents the number of credit card inquiries\n",
    "df['Num_Credit_Inquiries'].unique()\n",
    "null_values = df['Num_Credit_Inquiries'].isnull().sum()\n",
    "print(f\"Number of null values: {null_values}\")"
   ]
  },
  {
   "cell_type": "markdown",
   "id": "816c005a",
   "metadata": {},
   "source": [
    "##### Classification of the mix of credits"
   ]
  },
  {
   "cell_type": "code",
   "execution_count": 45,
   "id": "82abfa42",
   "metadata": {},
   "outputs": [
    {
     "data": {
      "text/plain": [
       "array(['_', 'Good', 'Standard', 'Bad'], dtype=object)"
      ]
     },
     "execution_count": 45,
     "metadata": {},
     "output_type": "execute_result"
    }
   ],
   "source": [
    "# Represents the classification of the mix of credits\n",
    "df['Credit_Mix'].unique()"
   ]
  },
  {
   "cell_type": "markdown",
   "id": "880813f5",
   "metadata": {},
   "source": [
    "##### Remaining debt to be paid"
   ]
  },
  {
   "cell_type": "code",
   "execution_count": 120,
   "id": "c1098ac9",
   "metadata": {},
   "outputs": [
    {
     "data": {
      "text/plain": [
       "array(['11.27', '', '6.27', ..., '17.509999999999998', '25.16', '21.17'],\n",
       "      shape=(4384,), dtype=object)"
      ]
     },
     "execution_count": 120,
     "metadata": {},
     "output_type": "execute_result"
    }
   ],
   "source": [
    "# Represents the remaining debt to be paid (in USD)\n",
    "df['Outstanding_Debt'].unique()\n",
    "\n",
    "df_copy = df.copy()\n",
    "df_copy['Changed_Credit_Limit'] = df_copy['Changed_Credit_Limit'].apply(lambda x: x.replace('_',''))\n",
    "df_copy['Changed_Credit_Limit'].unique()"
   ]
  },
  {
   "cell_type": "markdown",
   "id": "8b67c4b3",
   "metadata": {},
   "source": [
    "##### Utilization ratio of credit card"
   ]
  },
  {
   "cell_type": "code",
   "execution_count": 121,
   "id": "013778c1",
   "metadata": {},
   "outputs": [
    {
     "data": {
      "text/plain": [
       "array([26.82261962, 31.94496006, 28.60935202, ..., 41.25552226,\n",
       "       33.63820798, 34.19246265], shape=(100000,))"
      ]
     },
     "execution_count": 121,
     "metadata": {},
     "output_type": "execute_result"
    }
   ],
   "source": [
    "# Represents the utilization ratio of credit card\n",
    "df['Credit_Utilization_Ratio'].unique()"
   ]
  },
  {
   "cell_type": "markdown",
   "id": "fd3b7e90",
   "metadata": {},
   "source": [
    "##### Age of credit history"
   ]
  },
  {
   "cell_type": "code",
   "execution_count": 124,
   "id": "f7acd19b",
   "metadata": {},
   "outputs": [
    {
     "data": {
      "text/plain": [
       "array([265.,  nan, 267., 268., 269., 270., 271., 319., 320., 321., 322.,\n",
       "       323., 324., 325., 326., 213., 214., 215., 217., 218., 219., 220.,\n",
       "       207., 208., 209., 210., 211., 212., 368., 369., 370., 371., 372.,\n",
       "       373., 374., 375., 384., 386., 387., 389., 390., 367., 176., 177.,\n",
       "       178., 179., 180., 181., 182., 256., 257., 258., 259., 260., 261.,\n",
       "       262., 263., 318., 230., 231., 232., 233., 234., 235., 236., 305.,\n",
       "       306., 307., 308., 309., 310., 311., 312., 327., 328., 329., 107.,\n",
       "       108., 109., 110., 111., 112., 114., 221., 222., 224., 225., 202.,\n",
       "       203., 204., 205., 206., 350., 351., 352., 354., 356., 357.,  77.,\n",
       "        78.,  79.,  80.,  81.,  82.,  83.,  84., 330., 331., 332., 333.,\n",
       "       223., 237., 238., 121., 122., 123., 124., 125., 126., 127., 128.,\n",
       "       393., 394., 395., 396., 397., 400., 147., 148., 149., 150., 151.,\n",
       "       152., 154., 153., 164., 167., 168., 169., 170., 171., 363., 364.,\n",
       "       365., 366., 105., 106., 226., 227., 228., 229., 104., 157., 158.,\n",
       "       159., 161., 162., 163., 264., 313., 314., 160., 165., 335., 336.,\n",
       "       337., 338., 339., 340., 341., 342.,  94.,  95.,  96.,  97.,  98.,\n",
       "        99., 100., 101., 291., 292., 293., 294., 295., 296., 297.,  14.,\n",
       "        15.,  16.,  17.,  18.,  19.,  20., 131., 132., 133., 134., 135.,\n",
       "       136., 137., 138., 239., 240., 241., 129., 130., 172., 173., 174.,\n",
       "       248., 249., 250., 251., 252., 253., 254., 255.,   4.,   5.,   6.,\n",
       "         8.,   9.,  10., 379., 380., 381., 382., 383., 385., 155., 156.,\n",
       "       334., 139., 140., 141., 142., 298., 299., 300., 301., 302., 303.,\n",
       "       216., 376., 377., 378.,  62.,  63.,  64.,  65.,  66.,  67.,  68.,\n",
       "        69.,  35.,  36.,  37.,  38.,  39.,  40.,  41.,  42., 196., 197.,\n",
       "       198., 199., 200., 201., 275., 276., 278., 279., 280., 281., 282.,\n",
       "       102., 103.,  53.,  54.,  55.,  56.,  57.,  58.,  59.,  60., 392.,\n",
       "       398., 399., 146., 388., 359., 360., 362., 315., 316., 317.,  90.,\n",
       "        91.,  92.,  93., 343., 344., 345., 346., 353., 355., 242., 243.,\n",
       "       244., 245., 246., 247., 347., 348., 166.,  21.,  22.,  23., 401.,\n",
       "       402., 403., 404., 349.,  61.,  70.,  71.,  72.,  73.,  74.,  75.,\n",
       "       273., 274., 277., 266., 184., 185., 186., 187., 188., 189., 190.,\n",
       "       191.,  27.,  28.,  29.,  30.,  31.,  32.,  33.,  34.,  24., 194.,\n",
       "       195., 272., 113., 115., 116., 117., 143., 144., 145., 290., 192.,\n",
       "       193., 175., 304., 183.,  85.,  86.,  87.,  88.,  89., 283., 284.,\n",
       "       285., 361., 358., 118., 119., 120.,  26., 286., 287., 288., 289.,\n",
       "        76.,   1.,   2.,   3.,   7.,  44., 391.,  43.,  45.,  46.,  11.,\n",
       "        12.,  13.,  52.,  47.,  48.,  49.,  50.,  51.,  25.])"
      ]
     },
     "execution_count": 124,
     "metadata": {},
     "output_type": "execute_result"
    }
   ],
   "source": [
    "# Represents the age of credit history of the person\n",
    "df['Credit_History_Age'].unique()\n",
    "\n",
    "def number_of_months(x):\n",
    "    if pd.isna(x):\n",
    "        return None\n",
    "    years = re.search(r\"(\\d+)\\s*Year\", x)\n",
    "    months = re.search(r\"(\\d+)\\s*Month\", x)\n",
    "    y = int(years.group(1)) if years else 0\n",
    "    m = int(months.group(1)) if months else 0\n",
    "    return y * 12 + m\n",
    "\n",
    "df_copy = df.copy()\n",
    "df_copy['Credit_History_Age_Months'] = df_copy['Credit_History_Age'].apply(lambda x: number_of_months(x))\n",
    "df_copy['Credit_History_Age_Months'].unique()"
   ]
  },
  {
   "cell_type": "markdown",
   "id": "eefc00eb",
   "metadata": {},
   "source": [
    "##### Minimum amount was paid by the person"
   ]
  },
  {
   "cell_type": "code",
   "execution_count": 49,
   "id": "e27472f0",
   "metadata": {},
   "outputs": [
    {
     "data": {
      "text/plain": [
       "array(['No', 'NM', 'Yes'], dtype=object)"
      ]
     },
     "execution_count": 49,
     "metadata": {},
     "output_type": "execute_result"
    }
   ],
   "source": [
    "# Represents whether only the minimum amount was paid by the person\n",
    "df['Payment_of_Min_Amount'].unique()"
   ]
  },
  {
   "cell_type": "markdown",
   "id": "bd405028",
   "metadata": {},
   "source": [
    "##### Monthly EMI payments"
   ]
  },
  {
   "cell_type": "code",
   "execution_count": 50,
   "id": "d7406b8a",
   "metadata": {},
   "outputs": [
    {
     "data": {
      "text/plain": [
       "array([4.95749492e+01, 1.88162146e+01, 2.46992319e+02, ...,\n",
       "       1.21120000e+04, 3.51040226e+01, 5.86380000e+04], shape=(14950,))"
      ]
     },
     "execution_count": 50,
     "metadata": {},
     "output_type": "execute_result"
    }
   ],
   "source": [
    "# Represents the monthly EMI payments (in USD)\n",
    "df['Total_EMI_per_month'].unique()"
   ]
  },
  {
   "cell_type": "markdown",
   "id": "f2de155e",
   "metadata": {},
   "source": [
    "##### Monthly amount invested by the customer"
   ]
  },
  {
   "cell_type": "code",
   "execution_count": 51,
   "id": "158a585d",
   "metadata": {},
   "outputs": [
    {
     "data": {
      "text/plain": [
       "array(['80.41529543900253', '118.28022162236736', '81.699521264648', ...,\n",
       "       '24.02847744864441', '251.67258219721603', '167.1638651610451'],\n",
       "      shape=(91050,), dtype=object)"
      ]
     },
     "execution_count": 51,
     "metadata": {},
     "output_type": "execute_result"
    }
   ],
   "source": [
    "# Represents the monthly amount invested by the customer (in USD)\n",
    "df['Amount_invested_monthly'].unique()"
   ]
  },
  {
   "cell_type": "markdown",
   "id": "4130352b",
   "metadata": {},
   "source": [
    "##### Payment behavior"
   ]
  },
  {
   "cell_type": "code",
   "execution_count": 52,
   "id": "1c60a203",
   "metadata": {},
   "outputs": [
    {
     "data": {
      "text/plain": [
       "array(['High_spent_Small_value_payments',\n",
       "       'Low_spent_Large_value_payments',\n",
       "       'Low_spent_Medium_value_payments',\n",
       "       'Low_spent_Small_value_payments',\n",
       "       'High_spent_Medium_value_payments', '!@9#%8',\n",
       "       'High_spent_Large_value_payments'], dtype=object)"
      ]
     },
     "execution_count": 52,
     "metadata": {},
     "output_type": "execute_result"
    }
   ],
   "source": [
    "# Represents the payment behavior of the customer (in USD)\n",
    "df['Payment_Behaviour'].unique()"
   ]
  },
  {
   "cell_type": "markdown",
   "id": "1e69995e",
   "metadata": {},
   "source": [
    "##### Monthly balance amount"
   ]
  },
  {
   "cell_type": "code",
   "execution_count": 53,
   "id": "7131189f",
   "metadata": {},
   "outputs": [
    {
     "data": {
      "text/plain": [
       "array(['312.49408867943663', '284.62916249607184', '331.2098628537912',\n",
       "       ..., 516.8090832742814, 319.1649785257098, 393.6736955618808],\n",
       "      shape=(98793,), dtype=object)"
      ]
     },
     "execution_count": 53,
     "metadata": {},
     "output_type": "execute_result"
    }
   ],
   "source": [
    "# Represents the monthly balance amount of the customer (in USD)\n",
    "df['Monthly_Balance'].unique()"
   ]
  },
  {
   "cell_type": "markdown",
   "id": "156299fa",
   "metadata": {},
   "source": [
    "##### Credit Score Brackets"
   ]
  },
  {
   "cell_type": "code",
   "execution_count": 54,
   "id": "e257e1cc",
   "metadata": {},
   "outputs": [
    {
     "data": {
      "text/plain": [
       "array(['Good', 'Standard', 'Poor'], dtype=object)"
      ]
     },
     "execution_count": 54,
     "metadata": {},
     "output_type": "execute_result"
    }
   ],
   "source": [
    "# Represents the bracket of credit score (Poor, Standard, Good)\n",
    "df['Credit_Score'].unique()"
   ]
  }
 ],
 "metadata": {
  "kernelspec": {
   "display_name": ".venv",
   "language": "python",
   "name": "python3"
  },
  "language_info": {
   "codemirror_mode": {
    "name": "ipython",
    "version": 3
   },
   "file_extension": ".py",
   "mimetype": "text/x-python",
   "name": "python",
   "nbconvert_exporter": "python",
   "pygments_lexer": "ipython3",
   "version": "3.12.0"
  }
 },
 "nbformat": 4,
 "nbformat_minor": 5
}
